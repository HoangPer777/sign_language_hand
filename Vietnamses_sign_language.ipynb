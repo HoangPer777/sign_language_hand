{
  "nbformat": 4,
  "nbformat_minor": 0,
  "metadata": {
    "colab": {
      "provenance": []
    },
    "kernelspec": {
      "name": "python3",
      "display_name": "Python 3"
    },
    "language_info": {
      "name": "python"
    }
  },
  "cells": [
    {
      "cell_type": "markdown",
      "source": [
        "# VietNam sign language train model"
      ],
      "metadata": {
        "id": "l9FkcWDo1oQG"
      }
    },
    {
      "cell_type": "code",
      "execution_count": null,
      "metadata": {
        "colab": {
          "base_uri": "https://localhost:8080/"
        },
        "id": "PfCv_KyGevLy",
        "outputId": "442471ab-20a0-4f58-e165-2d0bef33afa7"
      },
      "outputs": [
        {
          "output_type": "stream",
          "name": "stdout",
          "text": [
            "Drive already mounted at /content/drive; to attempt to forcibly remount, call drive.mount(\"/content/drive\", force_remount=True).\n"
          ]
        }
      ],
      "source": [
        "from google.colab import drive\n",
        "drive.mount('/content/drive')"
      ]
    },
    {
      "cell_type": "code",
      "source": [
        "import os\n",
        "import json\n",
        "import numpy as np\n",
        "import glob\n",
        "import pandas as pd\n",
        "\n",
        "import seaborn as sns\n",
        "import matplotlib.pyplot as plt\n",
        "\n",
        "from sklearn.model_selection import train_test_split\n",
        "\n",
        "from sklearn.metrics import accuracy_score, precision_score, recall_score, f1_score\n",
        "from prettytable import PrettyTable\n",
        "\n",
        "from sklearn.metrics import classification_report\n",
        "from sklearn.metrics import confusion_matrix\n",
        "\n",
        "from sklearn.ensemble import RandomForestClassifier\n",
        "from sklearn.svm import SVC\n",
        "from sklearn.linear_model import LogisticRegression\n",
        "from sklearn.neural_network import MLPClassifier\n"
      ],
      "metadata": {
        "id": "vcWoT4mte7m9"
      },
      "execution_count": null,
      "outputs": []
    },
    {
      "cell_type": "markdown",
      "source": [
        "# Data exploration"
      ],
      "metadata": {
        "id": "cjF9qFFVrcZZ"
      }
    },
    {
      "cell_type": "code",
      "source": [
        "# mỗi frame là 1 sample\n",
        "def extract_framewise_features_from_json(json_file):\n",
        "  with open(json_file, 'r') as f:\n",
        "    data = json.load(f)\n",
        "\n",
        "  samples = []\n",
        "  for frame in data:\n",
        "    landmarks = frame.get(\"landmarks\", [])\n",
        "    if len(landmarks) != 21:\n",
        "      continue\n",
        "    coords = []\n",
        "    for point in landmarks:\n",
        "      coords.extend([point[\"x\"], point[\"y\"], point[\"z\"]])\n",
        "    samples.append(coords)  # 63 chiều mỗi frame\n",
        "\n",
        "  return samples  # danh sách các frame\n"
      ],
      "metadata": {
        "id": "yf9kxTDPn2wd"
      },
      "execution_count": null,
      "outputs": []
    },
    {
      "cell_type": "code",
      "source": [
        "base_path = '/content/drive/MyDrive/dataset/vn_language_sign_preDataset'\n",
        "label_map = { \"A\": 0, \"B\": 1, \"C\": 2, \"D\": 3, \"E\": 4 }\n",
        "\n",
        "X, y = [], []\n",
        "\n",
        "for label_name in label_map:\n",
        "  label_folder = os.path.join(base_path, label_name)\n",
        "  json_files = glob.glob(os.path.join(label_folder, '*.json'))\n",
        "  for json_file in json_files:\n",
        "    frames = extract_framewise_features_from_json(json_file)\n",
        "    for frame in frames:\n",
        "      X.append(frame)\n",
        "      y.append(label_map[label_name])\n",
        "\n"
      ],
      "metadata": {
        "id": "1UNP1UDQgeh7"
      },
      "execution_count": null,
      "outputs": []
    },
    {
      "cell_type": "code",
      "source": [
        "# check shape\n",
        "X = np.array(X)\n",
        "y = np.array(y)\n",
        "print(X.shape)  # -> (số mẫu, 63)\n",
        "print(y.shape)  # -> (số mẫu,)\n"
      ],
      "metadata": {
        "colab": {
          "base_uri": "https://localhost:8080/"
        },
        "id": "4MM1bbkghjs3",
        "outputId": "728d1a8b-0f74-4950-e099-f337f4795783"
      },
      "execution_count": null,
      "outputs": [
        {
          "output_type": "stream",
          "name": "stdout",
          "text": [
            "(7554, 63)\n",
            "(7554,)\n"
          ]
        }
      ]
    },
    {
      "cell_type": "code",
      "source": [
        "# # save dataset\n",
        "\n",
        "# df = pd.DataFrame(X)\n",
        "# df['label'] = y\n",
        "# df.to_csv('/content/drive/MyDrive/dataset/processed_dataset.csv', index=False)"
      ],
      "metadata": {
        "id": "pMtHrEBdh88B"
      },
      "execution_count": null,
      "outputs": []
    },
    {
      "cell_type": "code",
      "source": [
        "df = pd.DataFrame(X)\n",
        "df['label'] = y\n",
        "df.head()"
      ],
      "metadata": {
        "colab": {
          "base_uri": "https://localhost:8080/",
          "height": 342
        },
        "id": "fpYjyrqgzkci",
        "outputId": "6d973e2c-6171-4886-91a8-b8921fc0c99b"
      },
      "execution_count": null,
      "outputs": [
        {
          "output_type": "execute_result",
          "data": {
            "text/plain": [
              "          0         1             2         3         4         5         6  \\\n",
              "0  0.218829  0.776617 -5.939527e-07  0.290068  0.709069 -0.025122  0.334494   \n",
              "1  0.217804  0.772329 -5.115557e-07  0.285080  0.715410 -0.027397  0.333580   \n",
              "2  0.218481  0.771083 -4.992582e-07  0.284539  0.715398 -0.027413  0.333331   \n",
              "3  0.218091  0.767711 -5.004063e-07  0.284505  0.714629 -0.027764  0.334246   \n",
              "4  0.219105  0.768287 -5.056602e-07  0.285074  0.714390 -0.027025  0.334230   \n",
              "\n",
              "          7         8         9  ...        54        55        56        57  \\\n",
              "0  0.592360 -0.034854  0.349805  ...  0.172989  0.446159 -0.045552  0.181369   \n",
              "1  0.594418 -0.035990  0.347335  ...  0.175573  0.443233 -0.041881  0.183260   \n",
              "2  0.594329 -0.035810  0.347977  ...  0.174969  0.442161 -0.042810  0.183112   \n",
              "3  0.594312 -0.035989  0.348844  ...  0.175647  0.442189 -0.042317  0.182685   \n",
              "4  0.592762 -0.034838  0.348439  ...  0.175476  0.441800 -0.042377  0.182592   \n",
              "\n",
              "         58        59        60        61        62  label  \n",
              "0  0.526937 -0.032771  0.183864  0.574545 -0.013420      0  \n",
              "1  0.528279 -0.030134  0.186733  0.577970 -0.010293      0  \n",
              "2  0.528131 -0.031463  0.187377  0.579171 -0.011709      0  \n",
              "3  0.528399 -0.030847  0.186226  0.578450 -0.011077      0  \n",
              "4  0.528149 -0.031361  0.186102  0.579079 -0.011827      0  \n",
              "\n",
              "[5 rows x 64 columns]"
            ],
            "text/html": [
              "\n",
              "  <div id=\"df-21c24433-42ab-4709-b476-4da38f0a2eff\" class=\"colab-df-container\">\n",
              "    <div>\n",
              "<style scoped>\n",
              "    .dataframe tbody tr th:only-of-type {\n",
              "        vertical-align: middle;\n",
              "    }\n",
              "\n",
              "    .dataframe tbody tr th {\n",
              "        vertical-align: top;\n",
              "    }\n",
              "\n",
              "    .dataframe thead th {\n",
              "        text-align: right;\n",
              "    }\n",
              "</style>\n",
              "<table border=\"1\" class=\"dataframe\">\n",
              "  <thead>\n",
              "    <tr style=\"text-align: right;\">\n",
              "      <th></th>\n",
              "      <th>0</th>\n",
              "      <th>1</th>\n",
              "      <th>2</th>\n",
              "      <th>3</th>\n",
              "      <th>4</th>\n",
              "      <th>5</th>\n",
              "      <th>6</th>\n",
              "      <th>7</th>\n",
              "      <th>8</th>\n",
              "      <th>9</th>\n",
              "      <th>...</th>\n",
              "      <th>54</th>\n",
              "      <th>55</th>\n",
              "      <th>56</th>\n",
              "      <th>57</th>\n",
              "      <th>58</th>\n",
              "      <th>59</th>\n",
              "      <th>60</th>\n",
              "      <th>61</th>\n",
              "      <th>62</th>\n",
              "      <th>label</th>\n",
              "    </tr>\n",
              "  </thead>\n",
              "  <tbody>\n",
              "    <tr>\n",
              "      <th>0</th>\n",
              "      <td>0.218829</td>\n",
              "      <td>0.776617</td>\n",
              "      <td>-5.939527e-07</td>\n",
              "      <td>0.290068</td>\n",
              "      <td>0.709069</td>\n",
              "      <td>-0.025122</td>\n",
              "      <td>0.334494</td>\n",
              "      <td>0.592360</td>\n",
              "      <td>-0.034854</td>\n",
              "      <td>0.349805</td>\n",
              "      <td>...</td>\n",
              "      <td>0.172989</td>\n",
              "      <td>0.446159</td>\n",
              "      <td>-0.045552</td>\n",
              "      <td>0.181369</td>\n",
              "      <td>0.526937</td>\n",
              "      <td>-0.032771</td>\n",
              "      <td>0.183864</td>\n",
              "      <td>0.574545</td>\n",
              "      <td>-0.013420</td>\n",
              "      <td>0</td>\n",
              "    </tr>\n",
              "    <tr>\n",
              "      <th>1</th>\n",
              "      <td>0.217804</td>\n",
              "      <td>0.772329</td>\n",
              "      <td>-5.115557e-07</td>\n",
              "      <td>0.285080</td>\n",
              "      <td>0.715410</td>\n",
              "      <td>-0.027397</td>\n",
              "      <td>0.333580</td>\n",
              "      <td>0.594418</td>\n",
              "      <td>-0.035990</td>\n",
              "      <td>0.347335</td>\n",
              "      <td>...</td>\n",
              "      <td>0.175573</td>\n",
              "      <td>0.443233</td>\n",
              "      <td>-0.041881</td>\n",
              "      <td>0.183260</td>\n",
              "      <td>0.528279</td>\n",
              "      <td>-0.030134</td>\n",
              "      <td>0.186733</td>\n",
              "      <td>0.577970</td>\n",
              "      <td>-0.010293</td>\n",
              "      <td>0</td>\n",
              "    </tr>\n",
              "    <tr>\n",
              "      <th>2</th>\n",
              "      <td>0.218481</td>\n",
              "      <td>0.771083</td>\n",
              "      <td>-4.992582e-07</td>\n",
              "      <td>0.284539</td>\n",
              "      <td>0.715398</td>\n",
              "      <td>-0.027413</td>\n",
              "      <td>0.333331</td>\n",
              "      <td>0.594329</td>\n",
              "      <td>-0.035810</td>\n",
              "      <td>0.347977</td>\n",
              "      <td>...</td>\n",
              "      <td>0.174969</td>\n",
              "      <td>0.442161</td>\n",
              "      <td>-0.042810</td>\n",
              "      <td>0.183112</td>\n",
              "      <td>0.528131</td>\n",
              "      <td>-0.031463</td>\n",
              "      <td>0.187377</td>\n",
              "      <td>0.579171</td>\n",
              "      <td>-0.011709</td>\n",
              "      <td>0</td>\n",
              "    </tr>\n",
              "    <tr>\n",
              "      <th>3</th>\n",
              "      <td>0.218091</td>\n",
              "      <td>0.767711</td>\n",
              "      <td>-5.004063e-07</td>\n",
              "      <td>0.284505</td>\n",
              "      <td>0.714629</td>\n",
              "      <td>-0.027764</td>\n",
              "      <td>0.334246</td>\n",
              "      <td>0.594312</td>\n",
              "      <td>-0.035989</td>\n",
              "      <td>0.348844</td>\n",
              "      <td>...</td>\n",
              "      <td>0.175647</td>\n",
              "      <td>0.442189</td>\n",
              "      <td>-0.042317</td>\n",
              "      <td>0.182685</td>\n",
              "      <td>0.528399</td>\n",
              "      <td>-0.030847</td>\n",
              "      <td>0.186226</td>\n",
              "      <td>0.578450</td>\n",
              "      <td>-0.011077</td>\n",
              "      <td>0</td>\n",
              "    </tr>\n",
              "    <tr>\n",
              "      <th>4</th>\n",
              "      <td>0.219105</td>\n",
              "      <td>0.768287</td>\n",
              "      <td>-5.056602e-07</td>\n",
              "      <td>0.285074</td>\n",
              "      <td>0.714390</td>\n",
              "      <td>-0.027025</td>\n",
              "      <td>0.334230</td>\n",
              "      <td>0.592762</td>\n",
              "      <td>-0.034838</td>\n",
              "      <td>0.348439</td>\n",
              "      <td>...</td>\n",
              "      <td>0.175476</td>\n",
              "      <td>0.441800</td>\n",
              "      <td>-0.042377</td>\n",
              "      <td>0.182592</td>\n",
              "      <td>0.528149</td>\n",
              "      <td>-0.031361</td>\n",
              "      <td>0.186102</td>\n",
              "      <td>0.579079</td>\n",
              "      <td>-0.011827</td>\n",
              "      <td>0</td>\n",
              "    </tr>\n",
              "  </tbody>\n",
              "</table>\n",
              "<p>5 rows × 64 columns</p>\n",
              "</div>\n",
              "    <div class=\"colab-df-buttons\">\n",
              "\n",
              "  <div class=\"colab-df-container\">\n",
              "    <button class=\"colab-df-convert\" onclick=\"convertToInteractive('df-21c24433-42ab-4709-b476-4da38f0a2eff')\"\n",
              "            title=\"Convert this dataframe to an interactive table.\"\n",
              "            style=\"display:none;\">\n",
              "\n",
              "  <svg xmlns=\"http://www.w3.org/2000/svg\" height=\"24px\" viewBox=\"0 -960 960 960\">\n",
              "    <path d=\"M120-120v-720h720v720H120Zm60-500h600v-160H180v160Zm220 220h160v-160H400v160Zm0 220h160v-160H400v160ZM180-400h160v-160H180v160Zm440 0h160v-160H620v160ZM180-180h160v-160H180v160Zm440 0h160v-160H620v160Z\"/>\n",
              "  </svg>\n",
              "    </button>\n",
              "\n",
              "  <style>\n",
              "    .colab-df-container {\n",
              "      display:flex;\n",
              "      gap: 12px;\n",
              "    }\n",
              "\n",
              "    .colab-df-convert {\n",
              "      background-color: #E8F0FE;\n",
              "      border: none;\n",
              "      border-radius: 50%;\n",
              "      cursor: pointer;\n",
              "      display: none;\n",
              "      fill: #1967D2;\n",
              "      height: 32px;\n",
              "      padding: 0 0 0 0;\n",
              "      width: 32px;\n",
              "    }\n",
              "\n",
              "    .colab-df-convert:hover {\n",
              "      background-color: #E2EBFA;\n",
              "      box-shadow: 0px 1px 2px rgba(60, 64, 67, 0.3), 0px 1px 3px 1px rgba(60, 64, 67, 0.15);\n",
              "      fill: #174EA6;\n",
              "    }\n",
              "\n",
              "    .colab-df-buttons div {\n",
              "      margin-bottom: 4px;\n",
              "    }\n",
              "\n",
              "    [theme=dark] .colab-df-convert {\n",
              "      background-color: #3B4455;\n",
              "      fill: #D2E3FC;\n",
              "    }\n",
              "\n",
              "    [theme=dark] .colab-df-convert:hover {\n",
              "      background-color: #434B5C;\n",
              "      box-shadow: 0px 1px 3px 1px rgba(0, 0, 0, 0.15);\n",
              "      filter: drop-shadow(0px 1px 2px rgba(0, 0, 0, 0.3));\n",
              "      fill: #FFFFFF;\n",
              "    }\n",
              "  </style>\n",
              "\n",
              "    <script>\n",
              "      const buttonEl =\n",
              "        document.querySelector('#df-21c24433-42ab-4709-b476-4da38f0a2eff button.colab-df-convert');\n",
              "      buttonEl.style.display =\n",
              "        google.colab.kernel.accessAllowed ? 'block' : 'none';\n",
              "\n",
              "      async function convertToInteractive(key) {\n",
              "        const element = document.querySelector('#df-21c24433-42ab-4709-b476-4da38f0a2eff');\n",
              "        const dataTable =\n",
              "          await google.colab.kernel.invokeFunction('convertToInteractive',\n",
              "                                                    [key], {});\n",
              "        if (!dataTable) return;\n",
              "\n",
              "        const docLinkHtml = 'Like what you see? Visit the ' +\n",
              "          '<a target=\"_blank\" href=https://colab.research.google.com/notebooks/data_table.ipynb>data table notebook</a>'\n",
              "          + ' to learn more about interactive tables.';\n",
              "        element.innerHTML = '';\n",
              "        dataTable['output_type'] = 'display_data';\n",
              "        await google.colab.output.renderOutput(dataTable, element);\n",
              "        const docLink = document.createElement('div');\n",
              "        docLink.innerHTML = docLinkHtml;\n",
              "        element.appendChild(docLink);\n",
              "      }\n",
              "    </script>\n",
              "  </div>\n",
              "\n",
              "\n",
              "    <div id=\"df-84a905a9-6b2b-4e60-9c6c-3d906f3fa27b\">\n",
              "      <button class=\"colab-df-quickchart\" onclick=\"quickchart('df-84a905a9-6b2b-4e60-9c6c-3d906f3fa27b')\"\n",
              "                title=\"Suggest charts\"\n",
              "                style=\"display:none;\">\n",
              "\n",
              "<svg xmlns=\"http://www.w3.org/2000/svg\" height=\"24px\"viewBox=\"0 0 24 24\"\n",
              "     width=\"24px\">\n",
              "    <g>\n",
              "        <path d=\"M19 3H5c-1.1 0-2 .9-2 2v14c0 1.1.9 2 2 2h14c1.1 0 2-.9 2-2V5c0-1.1-.9-2-2-2zM9 17H7v-7h2v7zm4 0h-2V7h2v10zm4 0h-2v-4h2v4z\"/>\n",
              "    </g>\n",
              "</svg>\n",
              "      </button>\n",
              "\n",
              "<style>\n",
              "  .colab-df-quickchart {\n",
              "      --bg-color: #E8F0FE;\n",
              "      --fill-color: #1967D2;\n",
              "      --hover-bg-color: #E2EBFA;\n",
              "      --hover-fill-color: #174EA6;\n",
              "      --disabled-fill-color: #AAA;\n",
              "      --disabled-bg-color: #DDD;\n",
              "  }\n",
              "\n",
              "  [theme=dark] .colab-df-quickchart {\n",
              "      --bg-color: #3B4455;\n",
              "      --fill-color: #D2E3FC;\n",
              "      --hover-bg-color: #434B5C;\n",
              "      --hover-fill-color: #FFFFFF;\n",
              "      --disabled-bg-color: #3B4455;\n",
              "      --disabled-fill-color: #666;\n",
              "  }\n",
              "\n",
              "  .colab-df-quickchart {\n",
              "    background-color: var(--bg-color);\n",
              "    border: none;\n",
              "    border-radius: 50%;\n",
              "    cursor: pointer;\n",
              "    display: none;\n",
              "    fill: var(--fill-color);\n",
              "    height: 32px;\n",
              "    padding: 0;\n",
              "    width: 32px;\n",
              "  }\n",
              "\n",
              "  .colab-df-quickchart:hover {\n",
              "    background-color: var(--hover-bg-color);\n",
              "    box-shadow: 0 1px 2px rgba(60, 64, 67, 0.3), 0 1px 3px 1px rgba(60, 64, 67, 0.15);\n",
              "    fill: var(--button-hover-fill-color);\n",
              "  }\n",
              "\n",
              "  .colab-df-quickchart-complete:disabled,\n",
              "  .colab-df-quickchart-complete:disabled:hover {\n",
              "    background-color: var(--disabled-bg-color);\n",
              "    fill: var(--disabled-fill-color);\n",
              "    box-shadow: none;\n",
              "  }\n",
              "\n",
              "  .colab-df-spinner {\n",
              "    border: 2px solid var(--fill-color);\n",
              "    border-color: transparent;\n",
              "    border-bottom-color: var(--fill-color);\n",
              "    animation:\n",
              "      spin 1s steps(1) infinite;\n",
              "  }\n",
              "\n",
              "  @keyframes spin {\n",
              "    0% {\n",
              "      border-color: transparent;\n",
              "      border-bottom-color: var(--fill-color);\n",
              "      border-left-color: var(--fill-color);\n",
              "    }\n",
              "    20% {\n",
              "      border-color: transparent;\n",
              "      border-left-color: var(--fill-color);\n",
              "      border-top-color: var(--fill-color);\n",
              "    }\n",
              "    30% {\n",
              "      border-color: transparent;\n",
              "      border-left-color: var(--fill-color);\n",
              "      border-top-color: var(--fill-color);\n",
              "      border-right-color: var(--fill-color);\n",
              "    }\n",
              "    40% {\n",
              "      border-color: transparent;\n",
              "      border-right-color: var(--fill-color);\n",
              "      border-top-color: var(--fill-color);\n",
              "    }\n",
              "    60% {\n",
              "      border-color: transparent;\n",
              "      border-right-color: var(--fill-color);\n",
              "    }\n",
              "    80% {\n",
              "      border-color: transparent;\n",
              "      border-right-color: var(--fill-color);\n",
              "      border-bottom-color: var(--fill-color);\n",
              "    }\n",
              "    90% {\n",
              "      border-color: transparent;\n",
              "      border-bottom-color: var(--fill-color);\n",
              "    }\n",
              "  }\n",
              "</style>\n",
              "\n",
              "      <script>\n",
              "        async function quickchart(key) {\n",
              "          const quickchartButtonEl =\n",
              "            document.querySelector('#' + key + ' button');\n",
              "          quickchartButtonEl.disabled = true;  // To prevent multiple clicks.\n",
              "          quickchartButtonEl.classList.add('colab-df-spinner');\n",
              "          try {\n",
              "            const charts = await google.colab.kernel.invokeFunction(\n",
              "                'suggestCharts', [key], {});\n",
              "          } catch (error) {\n",
              "            console.error('Error during call to suggestCharts:', error);\n",
              "          }\n",
              "          quickchartButtonEl.classList.remove('colab-df-spinner');\n",
              "          quickchartButtonEl.classList.add('colab-df-quickchart-complete');\n",
              "        }\n",
              "        (() => {\n",
              "          let quickchartButtonEl =\n",
              "            document.querySelector('#df-84a905a9-6b2b-4e60-9c6c-3d906f3fa27b button');\n",
              "          quickchartButtonEl.style.display =\n",
              "            google.colab.kernel.accessAllowed ? 'block' : 'none';\n",
              "        })();\n",
              "      </script>\n",
              "    </div>\n",
              "\n",
              "    </div>\n",
              "  </div>\n"
            ],
            "application/vnd.google.colaboratory.intrinsic+json": {
              "type": "dataframe",
              "variable_name": "df"
            }
          },
          "metadata": {},
          "execution_count": 32
        }
      ]
    },
    {
      "cell_type": "code",
      "source": [
        "print(\"Thông tin tổng quát:\")\n",
        "print(df.info())"
      ],
      "metadata": {
        "colab": {
          "base_uri": "https://localhost:8080/"
        },
        "id": "DY0UUCyg0PJL",
        "outputId": "3f3434bf-dbad-4632-c22b-422008ceb401"
      },
      "execution_count": null,
      "outputs": [
        {
          "output_type": "stream",
          "name": "stdout",
          "text": [
            "Thông tin tổng quát:\n",
            "<class 'pandas.core.frame.DataFrame'>\n",
            "RangeIndex: 7554 entries, 0 to 7553\n",
            "Data columns (total 64 columns):\n",
            " #   Column  Non-Null Count  Dtype  \n",
            "---  ------  --------------  -----  \n",
            " 0   0       7554 non-null   float64\n",
            " 1   1       7554 non-null   float64\n",
            " 2   2       7554 non-null   float64\n",
            " 3   3       7554 non-null   float64\n",
            " 4   4       7554 non-null   float64\n",
            " 5   5       7554 non-null   float64\n",
            " 6   6       7554 non-null   float64\n",
            " 7   7       7554 non-null   float64\n",
            " 8   8       7554 non-null   float64\n",
            " 9   9       7554 non-null   float64\n",
            " 10  10      7554 non-null   float64\n",
            " 11  11      7554 non-null   float64\n",
            " 12  12      7554 non-null   float64\n",
            " 13  13      7554 non-null   float64\n",
            " 14  14      7554 non-null   float64\n",
            " 15  15      7554 non-null   float64\n",
            " 16  16      7554 non-null   float64\n",
            " 17  17      7554 non-null   float64\n",
            " 18  18      7554 non-null   float64\n",
            " 19  19      7554 non-null   float64\n",
            " 20  20      7554 non-null   float64\n",
            " 21  21      7554 non-null   float64\n",
            " 22  22      7554 non-null   float64\n",
            " 23  23      7554 non-null   float64\n",
            " 24  24      7554 non-null   float64\n",
            " 25  25      7554 non-null   float64\n",
            " 26  26      7554 non-null   float64\n",
            " 27  27      7554 non-null   float64\n",
            " 28  28      7554 non-null   float64\n",
            " 29  29      7554 non-null   float64\n",
            " 30  30      7554 non-null   float64\n",
            " 31  31      7554 non-null   float64\n",
            " 32  32      7554 non-null   float64\n",
            " 33  33      7554 non-null   float64\n",
            " 34  34      7554 non-null   float64\n",
            " 35  35      7554 non-null   float64\n",
            " 36  36      7554 non-null   float64\n",
            " 37  37      7554 non-null   float64\n",
            " 38  38      7554 non-null   float64\n",
            " 39  39      7554 non-null   float64\n",
            " 40  40      7554 non-null   float64\n",
            " 41  41      7554 non-null   float64\n",
            " 42  42      7554 non-null   float64\n",
            " 43  43      7554 non-null   float64\n",
            " 44  44      7554 non-null   float64\n",
            " 45  45      7554 non-null   float64\n",
            " 46  46      7554 non-null   float64\n",
            " 47  47      7554 non-null   float64\n",
            " 48  48      7554 non-null   float64\n",
            " 49  49      7554 non-null   float64\n",
            " 50  50      7554 non-null   float64\n",
            " 51  51      7554 non-null   float64\n",
            " 52  52      7554 non-null   float64\n",
            " 53  53      7554 non-null   float64\n",
            " 54  54      7554 non-null   float64\n",
            " 55  55      7554 non-null   float64\n",
            " 56  56      7554 non-null   float64\n",
            " 57  57      7554 non-null   float64\n",
            " 58  58      7554 non-null   float64\n",
            " 59  59      7554 non-null   float64\n",
            " 60  60      7554 non-null   float64\n",
            " 61  61      7554 non-null   float64\n",
            " 62  62      7554 non-null   float64\n",
            " 63  label   7554 non-null   int64  \n",
            "dtypes: float64(63), int64(1)\n",
            "memory usage: 3.7 MB\n",
            "None\n"
          ]
        }
      ]
    },
    {
      "cell_type": "markdown",
      "source": [
        "\n",
        "\n",
        "> Có 7554 dòng dữ liệu, mỗi dòng tương ứng với tạo đồ điểm khớp của bàn tay trong một frame\n",
        "\n"
      ],
      "metadata": {
        "id": "zIt0-n9z0hEJ"
      }
    },
    {
      "cell_type": "code",
      "source": [
        "print(\"\\nSố lượng giá trị thiếu mỗi cột:\")\n",
        "print(df.isnull().sum())"
      ],
      "metadata": {
        "colab": {
          "base_uri": "https://localhost:8080/"
        },
        "id": "sOImzGSb021y",
        "outputId": "bdaad665-a2ef-40ca-c7e6-3b9de69de53b"
      },
      "execution_count": null,
      "outputs": [
        {
          "output_type": "stream",
          "name": "stdout",
          "text": [
            "\n",
            "Số lượng giá trị thiếu mỗi cột:\n",
            "0        0\n",
            "1        0\n",
            "2        0\n",
            "3        0\n",
            "4        0\n",
            "        ..\n",
            "59       0\n",
            "60       0\n",
            "61       0\n",
            "62       0\n",
            "label    0\n",
            "Length: 64, dtype: int64\n"
          ]
        }
      ]
    },
    {
      "cell_type": "markdown",
      "source": [
        "\n",
        "\n",
        "> Không có cột giá trị bị thiếu trong dataset\n",
        "\n"
      ],
      "metadata": {
        "id": "ZxYN143M04I6"
      }
    },
    {
      "cell_type": "code",
      "source": [
        "# Tạo dataframe từ y\n",
        "df = pd.DataFrame({'label': y})\n",
        "\n",
        "plt.figure(figsize=(8, 5))\n",
        "sns.countplot(x='label', data=df, palette='pastel', edgecolor='black')\n",
        "\n",
        "plt.title('Label Distribution in Dataset')\n",
        "plt.xlabel('Class Label')\n",
        "plt.ylabel('Count')\n",
        "plt.grid(axis='y', linestyle='--', alpha=0.7)\n",
        "plt.tight_layout()\n",
        "plt.show()\n"
      ],
      "metadata": {
        "colab": {
          "base_uri": "https://localhost:8080/",
          "height": 594
        },
        "id": "d1MpmPJ21FW6",
        "outputId": "7d2bcc00-ed40-4791-85d8-656ff8563fa3"
      },
      "execution_count": null,
      "outputs": [
        {
          "output_type": "stream",
          "name": "stderr",
          "text": [
            "/tmp/ipython-input-35-2253378640.py:5: FutureWarning: \n",
            "\n",
            "Passing `palette` without assigning `hue` is deprecated and will be removed in v0.14.0. Assign the `x` variable to `hue` and set `legend=False` for the same effect.\n",
            "\n",
            "  sns.countplot(x='label', data=df, palette='pastel', edgecolor='black')\n"
          ]
        },
        {
          "output_type": "display_data",
          "data": {
            "text/plain": [
              "<Figure size 800x500 with 1 Axes>"
            ],
            "image/png": "[encoded data removed]"
          },
          "metadata": {}
        }
      ]
    },
    {
      "cell_type": "markdown",
      "source": [
        "\n",
        "\n",
        "> Các mẫu dữ liệu phân bố tương đối đồng đều, chưa cần phải xử lý mất cân bằng dữ liệu ở hiện tại\n",
        "\n"
      ],
      "metadata": {
        "id": "MaQ1WAUD1S2G"
      }
    },
    {
      "cell_type": "markdown",
      "source": [
        "# Train model"
      ],
      "metadata": {
        "id": "4XNaShC7rSuh"
      }
    },
    {
      "cell_type": "markdown",
      "source": [
        "## Utils"
      ],
      "metadata": {
        "id": "1vzP2xf_9jxk"
      }
    },
    {
      "cell_type": "code",
      "source": [
        "\n",
        "X_train, X_test, y_train, y_test = train_test_split(X, y, test_size=0.2, random_state=42, stratify=y)\n"
      ],
      "metadata": {
        "id": "tRiqqk7itdM2"
      },
      "execution_count": null,
      "outputs": []
    },
    {
      "cell_type": "code",
      "source": [
        "\n",
        "\n",
        "def evaluate_models_with_prettytable(models, model_names, X_test, y_test):\n",
        "  table = PrettyTable()\n",
        "  table.field_names = [\"Model\", \"Accuracy\", \"Precision\", \"Recall\", \"F1-Score\"]\n",
        "\n",
        "  for model, name in zip(models, model_names):\n",
        "    y_pred = model.predict(X_test)\n",
        "    accuracy = accuracy_score(y_test, y_pred)\n",
        "    precision = precision_score(y_test, y_pred, average='weighted', zero_division=0)\n",
        "    recall = recall_score(y_test, y_pred, average='weighted', zero_division=0)\n",
        "    f1 = f1_score(y_test, y_pred, average='weighted', zero_division=0)\n",
        "    table.add_row([name, f\"{accuracy:.5f}\", f\"{precision:.5f}\", f\"{recall:.5f}\", f\"{f1:.5f}\"])\n",
        "\n",
        "  print(table)\n"
      ],
      "metadata": {
        "id": "mhyRpdi79oBT"
      },
      "execution_count": null,
      "outputs": []
    },
    {
      "cell_type": "code",
      "source": [
        "\n",
        "\n",
        "random_fr_model = RandomForestClassifier(n_estimators=100, random_state=42)\n",
        "random_fr_model.fit(X_train, y_train)\n",
        "\n",
        "y_pred = random_fr_model.predict(X_test)\n",
        "print(\"Accuracy:\", accuracy_score(y_test, y_pred))\n",
        "print(classification_report(y_test, y_pred))\n"
      ],
      "metadata": {
        "colab": {
          "base_uri": "https://localhost:8080/"
        },
        "id": "uXzPmenviH3I",
        "outputId": "a7b7c1ea-9723-4851-c1f8-0ae059069a4a"
      },
      "execution_count": null,
      "outputs": [
        {
          "output_type": "stream",
          "name": "stdout",
          "text": [
            "Accuracy: 0.99933818663137\n",
            "              precision    recall  f1-score   support\n",
            "\n",
            "           0       1.00      1.00      1.00       250\n",
            "           1       1.00      1.00      1.00       358\n",
            "           2       1.00      1.00      1.00       259\n",
            "           3       1.00      1.00      1.00       324\n",
            "           4       1.00      1.00      1.00       320\n",
            "\n",
            "    accuracy                           1.00      1511\n",
            "   macro avg       1.00      1.00      1.00      1511\n",
            "weighted avg       1.00      1.00      1.00      1511\n",
            "\n"
          ]
        }
      ]
    },
    {
      "cell_type": "code",
      "source": [
        "# Accuracy trên tập huấn luyện\n",
        "train_acc = random_fr_model.score(X_train, y_train)\n",
        "\n",
        "# Accuracy trên tập kiểm tra\n",
        "test_acc = random_fr_model.score(X_test, y_test)\n",
        "\n",
        "print(f\"Train accuracy: {train_acc:.5f}\")\n",
        "print(f\"Test accuracy: {test_acc:.5f}\")\n"
      ],
      "metadata": {
        "colab": {
          "base_uri": "https://localhost:8080/"
        },
        "id": "ezKqUlqZouI1",
        "outputId": "9d63fe1a-2463-4882-ba5f-7b312f3eaca8"
      },
      "execution_count": null,
      "outputs": [
        {
          "output_type": "stream",
          "name": "stdout",
          "text": [
            "Train accuracy: 1.00000\n",
            "Test accuracy: 0.99934\n"
          ]
        }
      ]
    },
    {
      "cell_type": "markdown",
      "source": [
        "> Không có dấu hiệu của overffitting"
      ],
      "metadata": {
        "id": "b-3oyJR7pKQd"
      }
    },
    {
      "cell_type": "code",
      "source": [
        "\n",
        "\n",
        "cm = confusion_matrix(y_test, y_pred)\n",
        "plt.figure(figsize=(8,6))\n",
        "sns.heatmap(cm, annot=True, fmt='d', cmap='Blues')\n",
        "plt.xlabel('Predicted')\n",
        "plt.ylabel('Actual')\n",
        "plt.title('Confusion Matrix')\n",
        "plt.show()\n"
      ],
      "metadata": {
        "colab": {
          "base_uri": "https://localhost:8080/",
          "height": 564
        },
        "id": "y9SL6Qt3pbut",
        "outputId": "fd407492-78e2-4478-a66e-f0fb9791d73e"
      },
      "execution_count": null,
      "outputs": [
        {
          "output_type": "display_data",
          "data": {
            "text/plain": [
              "<Figure size 800x600 with 2 Axes>"
            ],
            "image/png": "[encoded data removed]"
          },
          "metadata": {}
        }
      ]
    },
    {
      "cell_type": "markdown",
      "source": [
        "\n",
        "> Mô hình đa phần dự đoán đúng các nhãn\n",
        "\n"
      ],
      "metadata": {
        "id": "YANnFPIfp2_t"
      }
    },
    {
      "cell_type": "markdown",
      "source": [
        "## SVM"
      ],
      "metadata": {
        "id": "kRtbGcCY2dcS"
      }
    },
    {
      "cell_type": "code",
      "source": [
        "\n",
        "SVM_model = SVC(kernel='linear', C=1, gamma='scale')\n",
        "SVM_model.fit(X_train, y_train)\n",
        "\n",
        "y_pred = SVM_model.predict(X_test)\n",
        "print(\"Accuracy:\", accuracy_score(y_test, y_pred))\n",
        "print(classification_report(y_test, y_pred))"
      ],
      "metadata": {
        "colab": {
          "base_uri": "https://localhost:8080/"
        },
        "id": "bn03lpce2e6e",
        "outputId": "3c6e19e5-86cd-46dc-cad7-5bef69858d57"
      },
      "execution_count": null,
      "outputs": [
        {
          "output_type": "stream",
          "name": "stdout",
          "text": [
            "Accuracy: 0.9589675711449371\n",
            "              precision    recall  f1-score   support\n",
            "\n",
            "           0       1.00      0.93      0.96       250\n",
            "           1       0.99      0.96      0.97       358\n",
            "           2       1.00      0.97      0.98       259\n",
            "           3       0.85      1.00      0.92       324\n",
            "           4       0.99      0.93      0.96       320\n",
            "\n",
            "    accuracy                           0.96      1511\n",
            "   macro avg       0.97      0.96      0.96      1511\n",
            "weighted avg       0.96      0.96      0.96      1511\n",
            "\n"
          ]
        }
      ]
    },
    {
      "cell_type": "markdown",
      "source": [
        "## LogisticRegression"
      ],
      "metadata": {
        "id": "_vp_4CQh35Un"
      }
    },
    {
      "cell_type": "code",
      "source": [
        "\n",
        "lg_model = LogisticRegression(max_iter=1000)\n",
        "lg_model.fit(X_train, y_train)\n",
        "\n",
        "y_pred = lg_model.predict(X_test)\n",
        "print(\"Accuracy:\", accuracy_score(y_test, y_pred))\n",
        "print(classification_report(y_test, y_pred))"
      ],
      "metadata": {
        "colab": {
          "base_uri": "https://localhost:8080/"
        },
        "id": "EXQW13MP34tW",
        "outputId": "e6a44b22-667f-49cf-b1c5-33069d6762e3"
      },
      "execution_count": null,
      "outputs": [
        {
          "output_type": "stream",
          "name": "stdout",
          "text": [
            "Accuracy: 0.9543348775645268\n",
            "              precision    recall  f1-score   support\n",
            "\n",
            "           0       0.90      0.94      0.92       250\n",
            "           1       0.99      0.96      0.97       358\n",
            "           2       1.00      0.97      0.98       259\n",
            "           3       0.95      0.97      0.96       324\n",
            "           4       0.94      0.93      0.94       320\n",
            "\n",
            "    accuracy                           0.95      1511\n",
            "   macro avg       0.95      0.95      0.95      1511\n",
            "weighted avg       0.96      0.95      0.95      1511\n",
            "\n"
          ]
        }
      ]
    },
    {
      "cell_type": "markdown",
      "source": [
        "## MLP"
      ],
      "metadata": {
        "id": "XtSUaNay7zKn"
      }
    },
    {
      "cell_type": "code",
      "source": [
        "\n",
        "mlp_model = MLPClassifier(hidden_layer_sizes=(100, 50), max_iter=300)\n",
        "mlp_model.fit(X_train, y_train)\n",
        "\n",
        "y_pred = mlp_model.predict(X_test)\n",
        "print(\"Accuracy:\", accuracy_score(y_test, y_pred))\n",
        "print(classification_report(y_test, y_pred))"
      ],
      "metadata": {
        "colab": {
          "base_uri": "https://localhost:8080/"
        },
        "id": "2RF79bb15nDm",
        "outputId": "b0f79a28-61f0-454c-bbf6-556d9ad26a1b"
      },
      "execution_count": null,
      "outputs": [
        {
          "output_type": "stream",
          "name": "stdout",
          "text": [
            "Accuracy: 0.9960291197882197\n",
            "              precision    recall  f1-score   support\n",
            "\n",
            "           0       1.00      0.98      0.99       250\n",
            "           1       0.99      1.00      1.00       358\n",
            "           2       1.00      1.00      1.00       259\n",
            "           3       1.00      1.00      1.00       324\n",
            "           4       0.99      1.00      1.00       320\n",
            "\n",
            "    accuracy                           1.00      1511\n",
            "   macro avg       1.00      1.00      1.00      1511\n",
            "weighted avg       1.00      1.00      1.00      1511\n",
            "\n"
          ]
        }
      ]
    },
    {
      "cell_type": "markdown",
      "source": [
        "# Evaluate"
      ],
      "metadata": {
        "id": "qVax7jqY6Gj6"
      }
    },
    {
      "cell_type": "code",
      "source": [
        "evaluate_models_with_prettytable(\n",
        "  models=[random_fr_model, SVM_model, lg_model, mlp_model],\n",
        "  model_names=[\"random forest\", \"SVM\", \"Logistic Regression\", \"MLP\"],\n",
        "  X_test=X_test,\n",
        "  y_test=y_test\n",
        ")\n"
      ],
      "metadata": {
        "colab": {
          "base_uri": "https://localhost:8080/"
        },
        "id": "QaSVQ3lGcnVe",
        "outputId": "6f3f6dcd-7465-4b24-a2ee-e0c6da410305"
      },
      "execution_count": null,
      "outputs": [
        {
          "output_type": "stream",
          "name": "stdout",
          "text": [
            "+---------------------+----------+-----------+---------+----------+\n",
            "|        Model        | Accuracy | Precision |  Recall | F1-Score |\n",
            "+---------------------+----------+-----------+---------+----------+\n",
            "|    random forest    | 0.99934  |  0.99934  | 0.99934 | 0.99934  |\n",
            "|         SVM         | 0.95897  |  0.96426  | 0.95897 | 0.95985  |\n",
            "| Logistic Regression | 0.95433  |  0.95525  | 0.95433 | 0.95458  |\n",
            "|         MLP         | 0.99603  |  0.99606  | 0.99603 | 0.99601  |\n",
            "+---------------------+----------+-----------+---------+----------+\n"
          ]
        }
      ]
    },
    {
      "cell_type": "markdown",
      "source": [
        "\n",
        "\n",
        "\n",
        "\n",
        "> * Nhìn chung các model có chỉ số khá tốt nên chưa cần phải fine turn hyperparameter\n",
        "* Thuật toán random forest cho thấy hiệu quả nhất đối với dataset này khi chỉ số Accuracy là 99,93%. Các chỉ số khác điều cao hơn các model còn lại\n",
        "\n",
        "\n",
        "\n"
      ],
      "metadata": {
        "id": "pc8vPafFdRdQ"
      }
    },
    {
      "cell_type": "code",
      "source": [
        "# # lưu model\n",
        "# import joblib\n",
        "\n",
        "# joblib.dump(random_fr_model, '/content/drive/MyDrive/dataset/vn_sign_language_best.pkl')"
      ],
      "metadata": {
        "id": "WZe6MdMRePUo"
      },
      "execution_count": null,
      "outputs": []
    }
  ]
}